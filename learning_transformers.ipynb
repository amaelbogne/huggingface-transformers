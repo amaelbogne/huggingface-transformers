{
  "nbformat": 4,
  "nbformat_minor": 0,
  "metadata": {
    "colab": {
      "name": "learning_transformers.ipynb",
      "provenance": [],
      "collapsed_sections": [],
      "authorship_tag": "ABX9TyNexuqJzoeEB7yz0/pehk8l",
      "include_colab_link": true
    },
    "kernelspec": {
      "name": "python3",
      "display_name": "Python 3"
    },
    "language_info": {
      "name": "python"
    },
    "accelerator": "GPU"
  },
  "cells": [
    {
      "cell_type": "markdown",
      "metadata": {
        "id": "view-in-github",
        "colab_type": "text"
      },
      "source": [
        "<a href=\"https://colab.research.google.com/github/amaelbogne/huggingface-transformers/blob/main/learning_transformers.ipynb\" target=\"_parent\"><img src=\"https://colab.research.google.com/assets/colab-badge.svg\" alt=\"Open In Colab\"/></a>"
      ]
    },
    {
      "cell_type": "code",
      "metadata": {
        "id": "h3gTNkf7APjn"
      },
      "source": [
        "!pip install transformers[sentencepiece]\n",
        "!pip install datasets"
      ],
      "execution_count": null,
      "outputs": []
    },
    {
      "cell_type": "code",
      "metadata": {
        "id": "9NC4GfPGAcrf"
      },
      "source": [
        "import tensorflow as tf\n",
        "import numpy as np\n",
        "from transformers import AutoTokenizer, TFAutoModelForSequenceClassification\n",
        "from datasets import load_dataset\n",
        "from tensorflow.keras.losses import SparseCategoricalCrossentropy"
      ],
      "execution_count": 6,
      "outputs": []
    },
    {
      "cell_type": "code",
      "metadata": {
        "id": "wp9QM0M4Bn44"
      },
      "source": [
        "checkpoint = \"bert-base-cased\"\n",
        "tokenizer = AutoTokenizer.from_pretrained(checkpoint)\n",
        "model = TFAutoModelForSequenceClassification.from_pretrained(checkpoint)"
      ],
      "execution_count": null,
      "outputs": []
    },
    {
      "cell_type": "code",
      "metadata": {
        "id": "apVqkmh2B-nw"
      },
      "source": [
        "raw_datasets = load_dataset('glue', 'sst2')"
      ],
      "execution_count": null,
      "outputs": []
    },
    {
      "cell_type": "code",
      "metadata": {
        "id": "bUdnkiQgJl49"
      },
      "source": [
        "#tokenize any glue dataset\n",
        "\n",
        "def tokenize_glue_dataset(dataset):\n",
        "  print(dataset.shape)\n",
        "  if dataset.shape[1] == 3:\n",
        "    encoded = tokenizer(\n",
        "        dataset['sentence'],\n",
        "        padding = True,\n",
        "        truncation = True,\n",
        "        return_tensors = 'tf'\n",
        "    )\n",
        "  else:\n",
        "    #n this case shape[1]=4 meaning the inputs are pairs of sentences\n",
        "    encoded = tokenizer(\n",
        "        dataset['sentence1'],\n",
        "        dataset['sentence2'],\n",
        "        padding = True,\n",
        "        truncation = True,\n",
        "        return_tensors = 'tf'\n",
        "    )\n",
        "\n",
        "  return encoded.data"
      ],
      "execution_count": 9,
      "outputs": []
    },
    {
      "cell_type": "code",
      "metadata": {
        "id": "OLhdJz4ZFkVE"
      },
      "source": [
        "tokenized_datasets = {\n",
        "    split: tokenize_glue_dataset(raw_datasets[split]) for split in raw_datasets.keys()\n",
        "}"
      ],
      "execution_count": null,
      "outputs": []
    },
    {
      "cell_type": "markdown",
      "metadata": {
        "id": "HOiHL_sMaDFl"
      },
      "source": [
        "### Training the model"
      ]
    },
    {
      "cell_type": "code",
      "metadata": {
        "id": "c8eTtx20LV7j"
      },
      "source": [
        "model.compile(\n",
        "    optimizer='adam',\n",
        "    loss=SparseCategoricalCrossentropy(from_logits=True),\n",
        "    metrics=['accuracy'],\n",
        ")\n",
        "\n",
        "model.fit(\n",
        "    tokenized_datasets['train'],\n",
        "    np.array(raw_datasets['train']['label']),\n",
        "    validation_data=(\n",
        "        tokenized_datasets['validation'],\n",
        "        np.array(raw_datasets['validation']['label']),\n",
        "    ),\n",
        "    batch_size=8,\n",
        "    epochs=3\n",
        ")"
      ],
      "execution_count": null,
      "outputs": []
    },
    {
      "cell_type": "markdown",
      "metadata": {
        "id": "S9uLsrhet0wW"
      },
      "source": [
        "### Adding the F1 metric\n",
        "\n",
        "F1 metric is not built in in keras so we need to implement it by hand"
      ]
    },
    {
      "cell_type": "code",
      "metadata": {
        "id": "sMysIfO9mCRf"
      },
      "source": [
        "class F1_metric(tf.keras.metrics.Metric):\n",
        "  def __init__(self, name='f1_score', **kwargs):\n",
        "    super().__init__(name=name, **kwargs)\n",
        "    \n",
        "    self.precision = tf.keras.metrics.Precision()\n",
        "    self.recall = tf.keras.metrics.Recall()\n",
        "\n",
        "  def update_state(self, y_true, y_pred, sample_weight=None):\n",
        "    class_preds = tf.math.argmax(y_pred, axis=1)\n",
        "    self.precision.update_state(y_true, class_preds, sample_weight)\n",
        "    self.recall.update_state(y_true, class_preds, sample_weight)\n",
        "\n",
        "  def reset_state(self):\n",
        "    self.precision.reset_state()\n",
        "    self.recall.reset_state()\n",
        "\n",
        "  def result(self):\n",
        "    return 2 / ((1 / self.precision.result()) + (1 / self.recall.result()))\n"
      ],
      "execution_count": 11,
      "outputs": []
    },
    {
      "cell_type": "markdown",
      "metadata": {
        "id": "TPtG-kWwhybW"
      },
      "source": [
        "### Improving performance\n",
        "\n",
        "we achieve this by \n",
        "\n",
        "1- reducing the default rate (1e-3) by 20\n",
        "\n",
        "2- decaying the learning rate during the training down to 0\n",
        "\n",
        "Note: we will add the f1 custom metric while calling the compile method"
      ]
    },
    {
      "cell_type": "code",
      "metadata": {
        "id": "taKQvBcea9yo"
      },
      "source": [
        "from tensorflow.keras.optimizers.schedules import PolynomialDecay\n",
        "from tensorflow.keras.optimizers import Adam\n",
        "\n",
        "batch_size = 8\n",
        "num_epochs = 3\n",
        "\n",
        "#number of training steps, corresponding to the number of mini batches the model will go through overall\n",
        "num_train_steps = (len(tokenized_datasets['train']['input_ids']) // batch_size) * num_epochs\n",
        "\n",
        "lr_scheduler = PolynomialDecay(\n",
        "    initial_learning_rate = 5e-5,\n",
        "    end_learning_rate = 0,\n",
        "    decay_steps = num_train_steps\n",
        ")\n",
        "\n",
        "opt = Adam(learning_rate = lr_scheduler)"
      ],
      "execution_count": 12,
      "outputs": []
    },
    {
      "cell_type": "code",
      "metadata": {
        "id": "84RVYN1FlVQ6"
      },
      "source": [
        "model2 = TFAutoModelForSequenceClassification.from_pretrained(checkpoint)\n",
        "loss = tf.keras.losses.SparseCategoricalCrossentropy(from_logits=True)\n",
        "\n",
        "model2.compile(\n",
        "    optimizer=opt,\n",
        "    loss=loss,\n",
        "    metrics=['accuracy', F1_metric()],\n",
        ")\n",
        "\n",
        "model2.fit(\n",
        "    tokenized_datasets['train'],\n",
        "    np.array(raw_datasets['train']['label']),\n",
        "    validation_data=(\n",
        "        tokenized_datasets['validation'],\n",
        "        np.array(raw_datasets['validation']['label']),\n",
        "    ),\n",
        "    batch_size=batch_size,\n",
        "    epochs=num_epochs\n",
        ")"
      ],
      "execution_count": null,
      "outputs": []
    },
    {
      "cell_type": "markdown",
      "metadata": {
        "id": "QFyxWPJTwHNF"
      },
      "source": [
        "### Making predictions"
      ]
    },
    {
      "cell_type": "code",
      "metadata": {
        "id": "egK5n2KswKu-"
      },
      "source": [
        "preds = model2.predict(tokenized_datasets['test'])['logits']\n",
        "class_preds = np.argmax(preds, axis=1)\n",
        "print(preds.shape, class_preds.shape)"
      ],
      "execution_count": null,
      "outputs": []
    },
    {
      "cell_type": "code",
      "metadata": {
        "id": "uiFS4h3b235n"
      },
      "source": [
        "print(class_preds)"
      ],
      "execution_count": null,
      "outputs": []
    },
    {
      "cell_type": "markdown",
      "metadata": {
        "id": "dQzZH91qwr2p"
      },
      "source": [
        "### computing metrics associated with our dataset"
      ]
    },
    {
      "cell_type": "code",
      "metadata": {
        "id": "68uGcQykwxsG"
      },
      "source": [
        "from datasets import load_metric\n",
        "\n",
        "metric = load_metric('glue', 'sst2')\n",
        "metric.compute(predictions=class_preds, references=raw_datasets['test']['label'])"
      ],
      "execution_count": null,
      "outputs": []
    },
    {
      "cell_type": "markdown",
      "metadata": {
        "id": "RiPe0ikcorAy"
      },
      "source": [
        "### Pushing to the hub"
      ]
    },
    {
      "cell_type": "code",
      "metadata": {
        "id": "VaBDGISd5lWq"
      },
      "source": [
        "!curl -s https://packagecloud.io/install/repositories/github/git-lfs/script.deb.sh | sudo bash\n",
        "!sudo apt-get install git-lfs\n",
        "!git lfs install"
      ],
      "execution_count": null,
      "outputs": []
    },
    {
      "cell_type": "code",
      "metadata": {
        "id": "ZVJmwL3rowHo"
      },
      "source": [
        "!huggingface-cli login"
      ],
      "execution_count": null,
      "outputs": []
    },
    {
      "cell_type": "code",
      "metadata": {
        "id": "dk0w1kU59NRh"
      },
      "source": [
        "!git config --global user.email \"loicamael@gmail.com\"\n",
        "!git config --global user.name \"amaelbogne\""
      ],
      "execution_count": 3,
      "outputs": []
    },
    {
      "cell_type": "code",
      "metadata": {
        "id": "gTEn4jE2pGJR"
      },
      "source": [
        "model.push_to_hub('bert-base-cased-sst2-basic')"
      ],
      "execution_count": null,
      "outputs": []
    },
    {
      "cell_type": "code",
      "metadata": {
        "id": "6itnWoog47Bm"
      },
      "source": [
        "tokenizer.push_to_hub('bert-base-cased-sst2-basic')"
      ],
      "execution_count": null,
      "outputs": []
    }
  ]
}